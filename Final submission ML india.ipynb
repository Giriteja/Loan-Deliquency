{
 "cells": [
  {
   "cell_type": "code",
   "execution_count": 101,
   "metadata": {},
   "outputs": [],
   "source": [
    "%matplotlib inline\n",
    "import warnings\n",
    "warnings.filterwarnings(\"ignore\")\n",
    "\n",
    "\n",
    "from scipy import sparse\n",
    "from scipy.sparse import csr_matrix\n",
    "from datetime import datetime\n",
    "from sklearn.metrics.pairwise import cosine_similarity\n",
    "\n",
    "import sqlite3\n",
    "import pandas as pd\n",
    "import numpy as np\n",
    "import nltk\n",
    "import string\n",
    "import matplotlib.pyplot as plt\n",
    "import seaborn as sns\n",
    "from sklearn.feature_extraction.text import TfidfTransformer\n",
    "from sklearn.feature_extraction.text import TfidfVectorizer\n",
    "from nltk.corpus import stopwords\n",
    "\n",
    "from sklearn.feature_extraction.text import CountVectorizer\n",
    "from sklearn.metrics import confusion_matrix\n",
    "from sklearn import metrics\n",
    "from sklearn.metrics import roc_curve, auc\n",
    "from nltk.stem.porter import PorterStemmer\n",
    "\n",
    "import re\n",
    "# Tutorial about Python regular expressions: https://pymotw.com/2/re/\n",
    "import string\n",
    "from nltk.corpus import stopwords\n",
    "from nltk.stem import PorterStemmer\n",
    "from nltk.stem.wordnet import WordNetLemmatizer\n",
    "\n",
    "from gensim.models import Word2Vec\n",
    "from gensim.models import KeyedVectors\n",
    "import pickle\n",
    "\n",
    "from tqdm import tqdm\n",
    "import os"
   ]
  },
  {
   "cell_type": "code",
   "execution_count": 120,
   "metadata": {},
   "outputs": [],
   "source": [
    "Total=pd.read_csv(\"train.csv\")"
   ]
  },
  {
   "cell_type": "code",
   "execution_count": 121,
   "metadata": {},
   "outputs": [
    {
     "data": {
      "text/plain": [
       "(116058, 29)"
      ]
     },
     "execution_count": 121,
     "metadata": {},
     "output_type": "execute_result"
    }
   ],
   "source": [
    "Total.shape"
   ]
  },
  {
   "cell_type": "code",
   "execution_count": 122,
   "metadata": {},
   "outputs": [
    {
     "data": {
      "text/plain": [
       "Index(['loan_id', 'source', 'financial_institution', 'interest_rate',\n",
       "       'unpaid_principal_bal', 'loan_term', 'origination_date',\n",
       "       'first_payment_date', 'loan_to_value', 'number_of_borrowers',\n",
       "       'debt_to_income_ratio', 'borrower_credit_score', 'loan_purpose',\n",
       "       'insurance_percent', 'co-borrower_credit_score', 'insurance_type', 'm1',\n",
       "       'm2', 'm3', 'm4', 'm5', 'm6', 'm7', 'm8', 'm9', 'm10', 'm11', 'm12',\n",
       "       'm13'],\n",
       "      dtype='object')"
      ]
     },
     "execution_count": 122,
     "metadata": {},
     "output_type": "execute_result"
    }
   ],
   "source": [
    "Total.columns"
   ]
  },
  {
   "cell_type": "code",
   "execution_count": 125,
   "metadata": {},
   "outputs": [
    {
     "name": "stdout",
     "output_type": "stream",
     "text": [
      "No of Nan values in our dataframe :  0\n"
     ]
    }
   ],
   "source": [
    "# just to make sure that all Nan containing rows are deleted..\n",
    "print(\"No of Nan values in our dataframe : \", sum(Total.isnull().any()))"
   ]
  },
  {
   "cell_type": "code",
   "execution_count": 126,
   "metadata": {},
   "outputs": [
    {
     "name": "stdout",
     "output_type": "stream",
     "text": [
      "There are 0 duplicate rating entries in the data..\n"
     ]
    }
   ],
   "source": [
    "dup_bool = Total.duplicated()\n",
    "dups = sum(dup_bool) # by considering all columns..( including timestamp)\n",
    "print(\"There are {} duplicate rating entries in the data..\".format(dups))"
   ]
  },
  {
   "cell_type": "code",
   "execution_count": 132,
   "metadata": {},
   "outputs": [
    {
     "data": {
      "text/plain": [
       "X    63858\n",
       "Y    37554\n",
       "Z    14646\n",
       "Name: source, dtype: int64"
      ]
     },
     "execution_count": 132,
     "metadata": {},
     "output_type": "execute_result"
    }
   ],
   "source": [
    "#Count of each label\n",
    "Total[\"source\"].value_counts()"
   ]
  },
  {
   "cell_type": "code",
   "execution_count": 128,
   "metadata": {},
   "outputs": [
    {
     "data": {
      "text/plain": [
       "OTHER                          49699\n",
       "Browning-Hart                  31852\n",
       "Swanson, Newton and Miller      6874\n",
       "Edwards-Hoffman                 4857\n",
       "Martinez, Duffy and Bird        4715\n",
       "Miller, Mcclure and Allen       3158\n",
       "Nicholson Group                 2116\n",
       "Turner, Baldwin and Rhodes      1846\n",
       "Suarez Inc                      1790\n",
       "Cole, Brooks and Vincent        1642\n",
       "Richards-Walters                1459\n",
       "Taylor, Hunt and Rodriguez      1259\n",
       "Sanchez-Robinson                1193\n",
       "Sanchez, Hays and Wilkerson      853\n",
       "Romero, Woods and Johnson        750\n",
       "Thornton-Davis                   651\n",
       "Anderson-Taylor                  483\n",
       "Richardson Ltd                   473\n",
       "Chapman-Mcmahon                  388\n",
       "Name: financial_institution, dtype: int64"
      ]
     },
     "execution_count": 128,
     "metadata": {},
     "output_type": "execute_result"
    }
   ],
   "source": [
    "#Count of each label\n",
    "Total[\"financial_institution\"].value_counts()"
   ]
  },
  {
   "cell_type": "code",
   "execution_count": 129,
   "metadata": {},
   "outputs": [
    {
     "data": {
      "text/plain": [
       "A23    58462\n",
       "B12    29383\n",
       "C86    28213\n",
       "Name: loan_purpose, dtype: int64"
      ]
     },
     "execution_count": 129,
     "metadata": {},
     "output_type": "execute_result"
    }
   ],
   "source": [
    "#Count of each label\n",
    "Total[\"loan_purpose\"].value_counts()"
   ]
  },
  {
   "cell_type": "code",
   "execution_count": 130,
   "metadata": {},
   "outputs": [
    {
     "data": {
      "text/plain": [
       "0.0    115680\n",
       "1.0       378\n",
       "Name: insurance_type, dtype: int64"
      ]
     },
     "execution_count": 130,
     "metadata": {},
     "output_type": "execute_result"
    }
   ],
   "source": [
    "#Count of each label\n",
    "Total[\"insurance_type\"].value_counts()"
   ]
  },
  {
   "cell_type": "code",
   "execution_count": 131,
   "metadata": {},
   "outputs": [
    {
     "data": {
      "text/plain": [
       "0    115422\n",
       "1       636\n",
       "Name: m13, dtype: int64"
      ]
     },
     "execution_count": 131,
     "metadata": {},
     "output_type": "execute_result"
    }
   ],
   "source": [
    "#Count of each label\n",
    "Total[\"m13\"].value_counts()"
   ]
  },
  {
   "cell_type": "markdown",
   "metadata": {},
   "source": [
    "It's an highly imbalanced data "
   ]
  },
  {
   "cell_type": "code",
   "execution_count": 124,
   "metadata": {},
   "outputs": [
    {
     "data": {
      "text/plain": [
       "array([[<matplotlib.axes._subplots.AxesSubplot object at 0x00000291E728EB00>,\n",
       "        <matplotlib.axes._subplots.AxesSubplot object at 0x00000291E0765B00>,\n",
       "        <matplotlib.axes._subplots.AxesSubplot object at 0x00000291E095EAC8>,\n",
       "        <matplotlib.axes._subplots.AxesSubplot object at 0x00000291E0280278>,\n",
       "        <matplotlib.axes._subplots.AxesSubplot object at 0x00000291E033A8D0>],\n",
       "       [<matplotlib.axes._subplots.AxesSubplot object at 0x00000291E02CCE48>,\n",
       "        <matplotlib.axes._subplots.AxesSubplot object at 0x00000291E090B358>,\n",
       "        <matplotlib.axes._subplots.AxesSubplot object at 0x00000291E01D58D0>,\n",
       "        <matplotlib.axes._subplots.AxesSubplot object at 0x00000291E01D5908>,\n",
       "        <matplotlib.axes._subplots.AxesSubplot object at 0x00000291E1E213C8>],\n",
       "       [<matplotlib.axes._subplots.AxesSubplot object at 0x00000291EA429940>,\n",
       "        <matplotlib.axes._subplots.AxesSubplot object at 0x00000291E02BBEB8>,\n",
       "        <matplotlib.axes._subplots.AxesSubplot object at 0x00000291EA400470>,\n",
       "        <matplotlib.axes._subplots.AxesSubplot object at 0x00000291EA0F99E8>,\n",
       "        <matplotlib.axes._subplots.AxesSubplot object at 0x00000291E9FB1F60>],\n",
       "       [<matplotlib.axes._subplots.AxesSubplot object at 0x00000291E9FAB518>,\n",
       "        <matplotlib.axes._subplots.AxesSubplot object at 0x00000291E804BA90>,\n",
       "        <matplotlib.axes._subplots.AxesSubplot object at 0x00000291E72C7048>,\n",
       "        <matplotlib.axes._subplots.AxesSubplot object at 0x00000291E72A05C0>,\n",
       "        <matplotlib.axes._subplots.AxesSubplot object at 0x00000291E7271B38>],\n",
       "       [<matplotlib.axes._subplots.AxesSubplot object at 0x00000291E53C10F0>,\n",
       "        <matplotlib.axes._subplots.AxesSubplot object at 0x00000291E539A668>,\n",
       "        <matplotlib.axes._subplots.AxesSubplot object at 0x00000291E1D50BE0>,\n",
       "        <matplotlib.axes._subplots.AxesSubplot object at 0x00000291E03E4198>,\n",
       "        <matplotlib.axes._subplots.AxesSubplot object at 0x00000291E040B710>]],\n",
       "      dtype=object)"
      ]
     },
     "execution_count": 124,
     "metadata": {},
     "output_type": "execute_result"
    },
    {
     "data": {
      "image/png": "[encoded data removed]",
      "text/plain": [
       "<Figure size 1800x1440 with 25 Axes>"
      ]
     },
     "metadata": {
      "needs_background": "light"
     },
     "output_type": "display_data"
    }
   ],
   "source": [
    "Total.hist(bins=50,figsize=(25,20))"
   ]
  },
  {
   "cell_type": "markdown",
   "metadata": {},
   "source": [
    "Date modification "
   ]
  },
  {
   "cell_type": "code",
   "execution_count": 4,
   "metadata": {},
   "outputs": [],
   "source": [
    "\n",
    "\n",
    "list1=[]\n",
    "for i in range(0,len(Total)):\n",
    "    string1=Total[\"origination_date\"][i]\n",
    "    list1.append(string1[6])\n",
    "\n",
    "Total[\"origination_date\"]=list1\n",
    "\n",
    "list1=[]\n",
    "for i in range(0,len(Total)):\n",
    "    string1=Total[\"first_payment_date\"][i]\n",
    "    list1.append(string1[1])\n",
    "\n",
    "Total[\"first_payment_date\"]=list1\n",
    "\n",
    "Total['origination_date'] = Total['origination_date'].astype(int)\n",
    "Total['first_payment_date'] = Total['first_payment_date'].astype(int)\n",
    "\n",
    "Total[\"orgin-first\"]=Total[\"first_payment_date\"]-Total[\"origination_date\"]\n",
    "\n",
    "# Remove outlier\n",
    "Total.drop(Total[(Total['unpaid_principal_bal']>650000)].index, inplace=True)\n",
    "Total.reset_index(drop=True, inplace=True)"
   ]
  },
  {
   "cell_type": "markdown",
   "metadata": {},
   "source": [
    "Encoding Categorical variables"
   ]
  },
  {
   "cell_type": "code",
   "execution_count": 6,
   "metadata": {},
   "outputs": [],
   "source": [
    "from sklearn.preprocessing import LabelEncoder,OneHotEncoder\n",
    "le_X = LabelEncoder()\n",
    "\n",
    "X = Total.iloc[:,1].values\n",
    "\n",
    "X = le_X.fit_transform(X)\n",
    "\n",
    "y = Total.iloc[:,2].values\n",
    "\n",
    "y = le_X.fit_transform(y)\n",
    "\n",
    "z = Total.iloc[:,12].values\n",
    "\n",
    "z = le_X.fit_transform(z)\n",
    "\n",
    "a = Total.iloc[:,15].values\n",
    "\n",
    "a = le_X.fit_transform(z)\n",
    "\n",
    "Total['source']=X\n",
    "\n",
    "Total['financial_institution']=y\n",
    "\n",
    "Total['loan_purpose']=z\n",
    "\n",
    "Total['insurance_type']=a"
   ]
  },
  {
   "cell_type": "markdown",
   "metadata": {},
   "source": [
    "# Downsampling Majority class and creating multiple datasets"
   ]
  },
  {
   "cell_type": "code",
   "execution_count": 7,
   "metadata": {},
   "outputs": [],
   "source": [
    "Default=Total[0:636]"
   ]
  },
  {
   "cell_type": "code",
   "execution_count": 9,
   "metadata": {},
   "outputs": [],
   "source": [
    "Default_1=Default[0:500]"
   ]
  },
  {
   "cell_type": "code",
   "execution_count": 10,
   "metadata": {},
   "outputs": [],
   "source": [
    "Default_1_test=Default[501:636]"
   ]
  },
  {
   "cell_type": "code",
   "execution_count": 11,
   "metadata": {},
   "outputs": [],
   "source": [
    "All=pd.concat([Default_1,Default_1_test])"
   ]
  },
  {
   "cell_type": "code",
   "execution_count": 12,
   "metadata": {},
   "outputs": [
    {
     "data": {
      "text/plain": [
       "(635, 30)"
      ]
     },
     "execution_count": 12,
     "metadata": {},
     "output_type": "execute_result"
    }
   ],
   "source": [
    "All.shape"
   ]
  },
  {
   "cell_type": "code",
   "execution_count": 14,
   "metadata": {},
   "outputs": [],
   "source": [
    "Paid_1=Total[636:50000]"
   ]
  },
  {
   "cell_type": "code",
   "execution_count": 15,
   "metadata": {},
   "outputs": [
    {
     "data": {
      "text/plain": [
       "(49364, 30)"
      ]
     },
     "execution_count": 15,
     "metadata": {},
     "output_type": "execute_result"
    }
   ],
   "source": [
    "Paid_1.shape"
   ]
  },
  {
   "cell_type": "code",
   "execution_count": 16,
   "metadata": {},
   "outputs": [],
   "source": [
    "Paid_1_test=Total[50001:100000]"
   ]
  },
  {
   "cell_type": "code",
   "execution_count": 17,
   "metadata": {},
   "outputs": [
    {
     "data": {
      "text/plain": [
       "(49999, 30)"
      ]
     },
     "execution_count": 17,
     "metadata": {},
     "output_type": "execute_result"
    }
   ],
   "source": [
    "Paid_1_test.shape"
   ]
  },
  {
   "cell_type": "code",
   "execution_count": 18,
   "metadata": {},
   "outputs": [],
   "source": [
    "Paid_2=Paid_1.sample(n=4000, random_state=1)"
   ]
  },
  {
   "cell_type": "code",
   "execution_count": 19,
   "metadata": {},
   "outputs": [],
   "source": [
    "Default_2=Default_1.sample(n=500, random_state=1,replace=True)"
   ]
  },
  {
   "cell_type": "code",
   "execution_count": 20,
   "metadata": {},
   "outputs": [],
   "source": [
    "Paid_2_test=Paid_1_test.sample(n=150, random_state=1)"
   ]
  },
  {
   "cell_type": "code",
   "execution_count": 21,
   "metadata": {},
   "outputs": [],
   "source": [
    "Default_2_test=Default[501:636]"
   ]
  },
  {
   "cell_type": "code",
   "execution_count": 22,
   "metadata": {},
   "outputs": [],
   "source": [
    "Train2=pd.concat([Paid_2,Default_2])"
   ]
  },
  {
   "cell_type": "code",
   "execution_count": 23,
   "metadata": {},
   "outputs": [],
   "source": [
    "Test2=pd.concat([Paid_2_test,Default_2_test])"
   ]
  },
  {
   "cell_type": "code",
   "execution_count": 24,
   "metadata": {},
   "outputs": [],
   "source": [
    "Train2.to_csv(\"train2.csv\")"
   ]
  },
  {
   "cell_type": "code",
   "execution_count": 25,
   "metadata": {},
   "outputs": [],
   "source": [
    "Test2.to_csv(\"test2.csv\")"
   ]
  },
  {
   "cell_type": "code",
   "execution_count": 26,
   "metadata": {},
   "outputs": [],
   "source": [
    "Paid_3=Paid_1.sample(n=4000, random_state=1)"
   ]
  },
  {
   "cell_type": "code",
   "execution_count": 27,
   "metadata": {},
   "outputs": [],
   "source": [
    "Default_3=Default_1.sample(n=500, random_state=1,replace=True)"
   ]
  },
  {
   "cell_type": "code",
   "execution_count": 28,
   "metadata": {},
   "outputs": [],
   "source": [
    "Paid_3_test=Paid_1_test.sample(n=150, random_state=1)"
   ]
  },
  {
   "cell_type": "code",
   "execution_count": 29,
   "metadata": {},
   "outputs": [],
   "source": [
    "Default_3_test=Default[501:636]"
   ]
  },
  {
   "cell_type": "code",
   "execution_count": 30,
   "metadata": {},
   "outputs": [],
   "source": [
    "Train3=pd.concat([Paid_3,Default_3])"
   ]
  },
  {
   "cell_type": "code",
   "execution_count": 31,
   "metadata": {},
   "outputs": [],
   "source": [
    "Test3=pd.concat([Paid_3_test,Default_3_test])"
   ]
  },
  {
   "cell_type": "code",
   "execution_count": 32,
   "metadata": {},
   "outputs": [],
   "source": [
    "Train3.to_csv(\"train3.csv\")"
   ]
  },
  {
   "cell_type": "code",
   "execution_count": 33,
   "metadata": {},
   "outputs": [],
   "source": [
    "Test3.to_csv(\"test3.csv\")"
   ]
  },
  {
   "cell_type": "code",
   "execution_count": 34,
   "metadata": {},
   "outputs": [],
   "source": [
    "Paid_4=Paid_1.sample(n=4000, random_state=1)"
   ]
  },
  {
   "cell_type": "code",
   "execution_count": 35,
   "metadata": {},
   "outputs": [],
   "source": [
    "Default_4=Default_1.sample(n=500, random_state=1,replace=True)"
   ]
  },
  {
   "cell_type": "code",
   "execution_count": 36,
   "metadata": {},
   "outputs": [],
   "source": [
    "Paid_4_test=Paid_1_test.sample(n=150, random_state=1)"
   ]
  },
  {
   "cell_type": "code",
   "execution_count": 37,
   "metadata": {},
   "outputs": [],
   "source": [
    "Default_4_test=Default[501:636]"
   ]
  },
  {
   "cell_type": "code",
   "execution_count": 38,
   "metadata": {},
   "outputs": [],
   "source": [
    "Train4=pd.concat([Paid_4,Default_4])"
   ]
  },
  {
   "cell_type": "code",
   "execution_count": 39,
   "metadata": {},
   "outputs": [],
   "source": [
    "Test4=pd.concat([Paid_4_test,Default_4_test])"
   ]
  },
  {
   "cell_type": "code",
   "execution_count": 40,
   "metadata": {},
   "outputs": [],
   "source": [
    "Train4.to_csv(\"train4.csv\")"
   ]
  },
  {
   "cell_type": "code",
   "execution_count": 41,
   "metadata": {},
   "outputs": [],
   "source": [
    "Test4.to_csv(\"test4.csv\")"
   ]
  },
  {
   "cell_type": "code",
   "execution_count": 42,
   "metadata": {},
   "outputs": [],
   "source": [
    "Paid_5=Paid_1.sample(n=4000, random_state=1)"
   ]
  },
  {
   "cell_type": "code",
   "execution_count": 43,
   "metadata": {},
   "outputs": [],
   "source": [
    "Default_5=Default_1.sample(n=500, random_state=1,replace=True)"
   ]
  },
  {
   "cell_type": "code",
   "execution_count": 44,
   "metadata": {},
   "outputs": [],
   "source": [
    "Paid_5_test=Paid_1_test.sample(n=150, random_state=1)"
   ]
  },
  {
   "cell_type": "code",
   "execution_count": 45,
   "metadata": {},
   "outputs": [],
   "source": [
    "Default_5_test=Default[501:636]"
   ]
  },
  {
   "cell_type": "code",
   "execution_count": 46,
   "metadata": {},
   "outputs": [],
   "source": [
    "Train5=pd.concat([Paid_5,Default_5])"
   ]
  },
  {
   "cell_type": "code",
   "execution_count": 47,
   "metadata": {},
   "outputs": [],
   "source": [
    "Test5=pd.concat([Paid_5_test,Default_5_test])"
   ]
  },
  {
   "cell_type": "code",
   "execution_count": 48,
   "metadata": {},
   "outputs": [],
   "source": [
    "Train5.to_csv(\"train5.csv\")"
   ]
  },
  {
   "cell_type": "code",
   "execution_count": 49,
   "metadata": {},
   "outputs": [],
   "source": [
    "Test5.to_csv(\"test5.csv\")"
   ]
  },
  {
   "cell_type": "code",
   "execution_count": 50,
   "metadata": {},
   "outputs": [
    {
     "data": {
      "text/plain": [
       "(4500, 30)"
      ]
     },
     "execution_count": 50,
     "metadata": {},
     "output_type": "execute_result"
    }
   ],
   "source": [
    "Train5.shape"
   ]
  },
  {
   "cell_type": "markdown",
   "metadata": {},
   "source": [
    "# Logistic Regression"
   ]
  },
  {
   "cell_type": "code",
   "execution_count": 102,
   "metadata": {},
   "outputs": [],
   "source": [
    "Y_train_5=Train5[\"m13\"]\n",
    "\n",
    "X_train_5=Train5.drop(['m13','loan_id'], axis=1)\n",
    "\n",
    "Y_test_5=Test5[\"m13\"]\n",
    "\n",
    "X_test_5=Test5.drop(['m13','loan_id'], axis=1)"
   ]
  },
  {
   "cell_type": "code",
   "execution_count": 105,
   "metadata": {},
   "outputs": [],
   "source": [
    "from sklearn.preprocessing import StandardScaler\n",
    "sc_X = StandardScaler()\n",
    "X_train = sc_X.fit_transform(X_train_5)\n",
    "X_test = sc_X.transform(X_test_5)"
   ]
  },
  {
   "cell_type": "code",
   "execution_count": 59,
   "metadata": {},
   "outputs": [
    {
     "data": {
      "text/plain": [
       "(4500, 28)"
      ]
     },
     "execution_count": 59,
     "metadata": {},
     "output_type": "execute_result"
    }
   ],
   "source": [
    "X_train.shape"
   ]
  },
  {
   "cell_type": "code",
   "execution_count": 710,
   "metadata": {},
   "outputs": [
    {
     "data": {
      "text/plain": [
       "{'alpha': 0.001, 'penalty': 'l2'}"
      ]
     },
     "execution_count": 710,
     "metadata": {},
     "output_type": "execute_result"
    }
   ],
   "source": [
    "from sklearn.model_selection import GridSearchCV\n",
    "from sklearn import linear_model\n",
    "clf = linear_model.SGDClassifier(loss='log')\n",
    "alpha = [0.00001,0.0001,0.001,0.01,0.1,1,10,100,1000,10000]\n",
    "penalty=['l1','l2']\n",
    "param_grid = {'alpha':alpha,'penalty':penalty}\n",
    "knn_cv = GridSearchCV(clf, param_grid, cv=10,scoring='f1')\n",
    "knn_cv.fit(X_train, Y_train_5) \n",
    "knn_cv.best_params_"
   ]
  },
  {
   "cell_type": "code",
   "execution_count": 60,
   "metadata": {},
   "outputs": [
    {
     "data": {
      "text/plain": [
       "SGDClassifier(alpha=0.001, average=False, class_weight=None,\n",
       "       early_stopping=False, epsilon=0.1, eta0=0.0, fit_intercept=True,\n",
       "       l1_ratio=0.15, learning_rate='optimal', loss='log', max_iter=None,\n",
       "       n_iter=None, n_iter_no_change=5, n_jobs=None, penalty='l2',\n",
       "       power_t=0.5, random_state=None, shuffle=True, tol=None,\n",
       "       validation_fraction=0.1, verbose=0, warm_start=False)"
      ]
     },
     "execution_count": 60,
     "metadata": {},
     "output_type": "execute_result"
    }
   ],
   "source": [
    "from sklearn import linear_model\n",
    "from sklearn.calibration  import CalibratedClassifierCV\n",
    "alpha_optimal = linear_model.SGDClassifier(alpha=0.001,loss='log',penalty='l2')\n",
    "\n",
    "alpha_optimal.fit(X_train, Y_train_5)"
   ]
  },
  {
   "cell_type": "code",
   "execution_count": 61,
   "metadata": {},
   "outputs": [
    {
     "name": "stdout",
     "output_type": "stream",
     "text": [
      "Macro-average quality numbers\n",
      "Precision: 0.8488, Recall: 0.7593, F1-measure: 0.7524\n",
      "              precision    recall  f1-score   support\n",
      "\n",
      "           0       0.70      1.00      0.82       150\n",
      "           1       1.00      0.52      0.68       135\n",
      "\n",
      "   micro avg       0.77      0.77      0.77       285\n",
      "   macro avg       0.85      0.76      0.75       285\n",
      "weighted avg       0.84      0.77      0.76       285\n",
      "\n"
     ]
    }
   ],
   "source": [
    "from sklearn.metrics import precision_score,recall_score,f1_score\n",
    "# predict the response\n",
    "pred_LR = alpha_optimal.predict(X_test)\n",
    "\n",
    "precision = precision_score(Y_test_5, pred_LR, average='macro')\n",
    "recall = recall_score(Y_test_5, pred_LR, average='macro')\n",
    "f1 = f1_score(Y_test_5, pred_LR, average='macro')\n",
    " \n",
    "print(\"Macro-average quality numbers\")\n",
    "print(\"Precision: {:.4f}, Recall: {:.4f}, F1-measure: {:.4f}\".format(precision, recall, f1))\n",
    "\n",
    "print (metrics.classification_report(Y_test_5, pred_LR))"
   ]
  },
  {
   "cell_type": "code",
   "execution_count": 62,
   "metadata": {},
   "outputs": [
    {
     "name": "stdout",
     "output_type": "stream",
     "text": [
      "[[150   0]\n",
      " [ 65  70]]\n",
      "              precision    recall  f1-score   support\n",
      "\n",
      "           0       0.70      1.00      0.82       150\n",
      "           1       1.00      0.52      0.68       135\n",
      "\n",
      "   micro avg       0.77      0.77      0.77       285\n",
      "   macro avg       0.85      0.76      0.75       285\n",
      "weighted avg       0.84      0.77      0.76       285\n",
      "\n"
     ]
    },
    {
     "data": {
      "image/png": "[encoded data removed]",
      "text/plain": [
       "<Figure size 432x288 with 2 Axes>"
      ]
     },
     "metadata": {
      "needs_background": "light"
     },
     "output_type": "display_data"
    }
   ],
   "source": [
    "from sklearn.metrics import confusion_matrix,classification_report\n",
    "from pandas import DataFrame\n",
    "from sklearn.metrics import f1_score\n",
    "import seaborn as sn\n",
    "\n",
    "confm = confusion_matrix(Y_test_5, pred_LR)\n",
    "labels=['positive','negative']\n",
    "print(confm)\n",
    "df_cm = DataFrame(confm, index=labels, columns=labels)\n",
    "\n",
    "ax = sn.heatmap(df_cm, cmap='Oranges', annot=True,fmt='g')\n",
    "\n",
    "f1_score(Y_test_5, pred_LR, average='macro') \n",
    "print(classification_report(Y_test_5, pred_LR))"
   ]
  },
  {
   "cell_type": "markdown",
   "metadata": {},
   "source": [
    "# SVM"
   ]
  },
  {
   "cell_type": "code",
   "execution_count": 106,
   "metadata": {},
   "outputs": [],
   "source": [
    "Y_train_4=Train4[\"m13\"]\n",
    "\n",
    "X_train_4=Train4.drop(['m13','loan_id'], axis=1)\n",
    "\n",
    "Y_test_4=Test4[\"m13\"]\n",
    "\n",
    "X_test_4=Test4.drop(['m13','loan_id'], axis=1)"
   ]
  },
  {
   "cell_type": "code",
   "execution_count": 107,
   "metadata": {},
   "outputs": [],
   "source": [
    "from sklearn.preprocessing import StandardScaler\n",
    "sc_X = StandardScaler()\n",
    "X_train = sc_X.fit_transform(X_train_4)\n",
    "X_test = sc_X.transform(X_test_4)"
   ]
  },
  {
   "cell_type": "code",
   "execution_count": 716,
   "metadata": {},
   "outputs": [
    {
     "data": {
      "text/plain": [
       "{'alpha': 0.001, 'penalty': 'l1'}"
      ]
     },
     "execution_count": 716,
     "metadata": {},
     "output_type": "execute_result"
    }
   ],
   "source": [
    "from sklearn.model_selection import GridSearchCV\n",
    "from sklearn import linear_model\n",
    "clf = linear_model.SGDClassifier(loss='hinge')\n",
    "alpha = [0.00001,0.0001,0.001,0.01,0.1,1,10,100,1000,10000]\n",
    "penalty=['l1','l2']\n",
    "param_grid = {'alpha':alpha,'penalty':penalty}\n",
    "knn_cv = GridSearchCV(clf, param_grid, cv=10,scoring='f1')\n",
    "knn_cv.fit(X_train, Y_train_4) \n",
    "knn_cv.best_params_"
   ]
  },
  {
   "cell_type": "code",
   "execution_count": 65,
   "metadata": {},
   "outputs": [
    {
     "data": {
      "text/plain": [
       "SGDClassifier(alpha=0.001, average=False, class_weight=None,\n",
       "       early_stopping=False, epsilon=0.1, eta0=0.0, fit_intercept=True,\n",
       "       l1_ratio=0.15, learning_rate='optimal', loss='hinge', max_iter=None,\n",
       "       n_iter=None, n_iter_no_change=5, n_jobs=None, penalty='l1',\n",
       "       power_t=0.5, random_state=None, shuffle=True, tol=None,\n",
       "       validation_fraction=0.1, verbose=0, warm_start=False)"
      ]
     },
     "execution_count": 65,
     "metadata": {},
     "output_type": "execute_result"
    }
   ],
   "source": [
    "from sklearn import linear_model\n",
    "from sklearn.calibration  import CalibratedClassifierCV\n",
    "alpha_optimal_svm = linear_model.SGDClassifier(alpha=0.001,loss='hinge',penalty='l1')\n",
    "\n",
    "alpha_optimal_svm.fit(X_train, Y_train_4)"
   ]
  },
  {
   "cell_type": "code",
   "execution_count": 66,
   "metadata": {},
   "outputs": [
    {
     "name": "stdout",
     "output_type": "stream",
     "text": [
      "Macro-average quality numbers\n",
      "Precision: 0.8472, Recall: 0.7556, F1-measure: 0.7481\n",
      "              precision    recall  f1-score   support\n",
      "\n",
      "           0       0.69      1.00      0.82       150\n",
      "           1       1.00      0.51      0.68       135\n",
      "\n",
      "   micro avg       0.77      0.77      0.77       285\n",
      "   macro avg       0.85      0.76      0.75       285\n",
      "weighted avg       0.84      0.77      0.75       285\n",
      "\n"
     ]
    }
   ],
   "source": [
    "from sklearn.metrics import precision_score,recall_score,f1_score\n",
    "# predict the response\n",
    "pred_SVM = alpha_optimal_svm.predict(X_test)\n",
    "\n",
    "precision = precision_score(Y_test_4, pred_SVM, average='macro')\n",
    "recall = recall_score(Y_test_4, pred_SVM, average='macro')\n",
    "f1 = f1_score(Y_test_4, pred_SVM, average='macro')\n",
    " \n",
    "print(\"Macro-average quality numbers\")\n",
    "print(\"Precision: {:.4f}, Recall: {:.4f}, F1-measure: {:.4f}\".format(precision, recall, f1))\n",
    "\n",
    "print (metrics.classification_report(Y_test_4, pred_SVM))"
   ]
  },
  {
   "cell_type": "code",
   "execution_count": 67,
   "metadata": {},
   "outputs": [
    {
     "name": "stdout",
     "output_type": "stream",
     "text": [
      "[[150   0]\n",
      " [ 66  69]]\n",
      "              precision    recall  f1-score   support\n",
      "\n",
      "           0       0.69      1.00      0.82       150\n",
      "           1       1.00      0.51      0.68       135\n",
      "\n",
      "   micro avg       0.77      0.77      0.77       285\n",
      "   macro avg       0.85      0.76      0.75       285\n",
      "weighted avg       0.84      0.77      0.75       285\n",
      "\n"
     ]
    },
    {
     "data": {
      "image/png": "[encoded data removed]",
      "text/plain": [
       "<Figure size 432x288 with 2 Axes>"
      ]
     },
     "metadata": {
      "needs_background": "light"
     },
     "output_type": "display_data"
    }
   ],
   "source": [
    "from sklearn.metrics import confusion_matrix,classification_report\n",
    "from pandas import DataFrame\n",
    "from sklearn.metrics import f1_score\n",
    "import seaborn as sn\n",
    "\n",
    "confm = confusion_matrix(Y_test_4, pred_SVM)\n",
    "labels=['positive','negative']\n",
    "print(confm)\n",
    "df_cm = DataFrame(confm, index=labels, columns=labels)\n",
    "\n",
    "ax = sn.heatmap(df_cm, cmap='Oranges', annot=True,fmt='g')\n",
    "\n",
    "f1_score(Y_test_4, pred_SVM, average='macro') \n",
    "print(classification_report(Y_test_4, pred_SVM))"
   ]
  },
  {
   "cell_type": "markdown",
   "metadata": {},
   "source": [
    "# Random Forest"
   ]
  },
  {
   "cell_type": "code",
   "execution_count": 110,
   "metadata": {},
   "outputs": [],
   "source": [
    "features=Train3.drop(['m13','loan_id'], axis=1)"
   ]
  },
  {
   "cell_type": "code",
   "execution_count": 108,
   "metadata": {},
   "outputs": [],
   "source": [
    "Y_train_3=Train3[\"m13\"]\n",
    "\n",
    "X_train_3=Train3.drop(['m13','loan_id'], axis=1)\n",
    "\n",
    "Y_test_3=Test3[\"m13\"]\n",
    "\n",
    "X_test_3=Test3.drop(['m13','loan_id'], axis=1)"
   ]
  },
  {
   "cell_type": "code",
   "execution_count": 109,
   "metadata": {},
   "outputs": [],
   "source": [
    "from sklearn.preprocessing import StandardScaler\n",
    "sc_X = StandardScaler()\n",
    "X_train = sc_X.fit_transform(X_train_3)\n",
    "X_test = sc_X.transform(X_test_3)"
   ]
  },
  {
   "cell_type": "code",
   "execution_count": 572,
   "metadata": {},
   "outputs": [
    {
     "data": {
      "text/plain": [
       "{'max_depth': 13,\n",
       " 'min_samples_leaf': 7,\n",
       " 'min_samples_split': 7,\n",
       " 'n_estimators': 10}"
      ]
     },
     "execution_count": 572,
     "metadata": {},
     "output_type": "execute_result"
    }
   ],
   "source": [
    "from sklearn.model_selection import GridSearchCV\n",
    "from sklearn.ensemble import RandomForestClassifier\n",
    "n_estimators = [5, 10, 50, 100,150,200]\n",
    "max_depth = [7,9, 10 ,13,15,17]\n",
    "param_grid = {'n_estimators':n_estimators,'max_depth':max_depth,'min_samples_leaf':min_samples_leaf,'min_samples_split':min_samples_split}\n",
    "RF = RandomForestClassifier()\n",
    "knn_cv = GridSearchCV(RF, param_grid, cv=10,scoring='f1',n_jobs=4)\n",
    "knn_cv.fit(X_train, Y_train_3) \n",
    "knn_cv.best_params_"
   ]
  },
  {
   "cell_type": "code",
   "execution_count": 71,
   "metadata": {},
   "outputs": [
    {
     "data": {
      "text/plain": [
       "RandomForestClassifier(bootstrap=True, class_weight=None, criterion='gini',\n",
       "            max_depth=13, max_features='auto', max_leaf_nodes=None,\n",
       "            min_impurity_decrease=0.0, min_impurity_split=None,\n",
       "            min_samples_leaf=7, min_samples_split=7,\n",
       "            min_weight_fraction_leaf=0.0, n_estimators=10, n_jobs=None,\n",
       "            oob_score=False, random_state=None, verbose=0,\n",
       "            warm_start=False)"
      ]
     },
     "execution_count": 71,
     "metadata": {},
     "output_type": "execute_result"
    }
   ],
   "source": [
    "from sklearn.ensemble import RandomForestClassifier\n",
    "model_rf = RandomForestClassifier(n_estimators=10, max_depth=13,min_samples_leaf=7,min_samples_split=7)\n",
    "\n",
    "# fitting the model\n",
    "model_rf.fit(X_train, Y_train_3) "
   ]
  },
  {
   "cell_type": "code",
   "execution_count": 72,
   "metadata": {},
   "outputs": [
    {
     "name": "stdout",
     "output_type": "stream",
     "text": [
      "Macro-average quality numbers\n",
      "Precision: 0.8411, Recall: 0.7559, F1-measure: 0.7491\n",
      "              precision    recall  f1-score   support\n",
      "\n",
      "           0       0.70      0.99      0.82       150\n",
      "           1       0.99      0.52      0.68       135\n",
      "\n",
      "   micro avg       0.77      0.77      0.77       285\n",
      "   macro avg       0.84      0.76      0.75       285\n",
      "weighted avg       0.83      0.77      0.75       285\n",
      "\n"
     ]
    }
   ],
   "source": [
    "from sklearn.metrics import precision_score,recall_score,f1_score\n",
    "# predict the response\n",
    "pred_rf = model_rf.predict(X_test)\n",
    "\n",
    "precision = precision_score(Y_test_3, pred_rf, average='macro')\n",
    "recall = recall_score(Y_test_3, pred_rf, average='macro')\n",
    "f1 = f1_score(Y_test_3, pred_rf, average='macro')\n",
    " \n",
    "print(\"Macro-average quality numbers\")\n",
    "print(\"Precision: {:.4f}, Recall: {:.4f}, F1-measure: {:.4f}\".format(precision, recall, f1))\n",
    "\n",
    "print (metrics.classification_report(Y_test_3, pred_rf))"
   ]
  },
  {
   "cell_type": "code",
   "execution_count": 73,
   "metadata": {},
   "outputs": [
    {
     "name": "stdout",
     "output_type": "stream",
     "text": [
      "[[149   1]\n",
      " [ 65  70]]\n",
      "              precision    recall  f1-score   support\n",
      "\n",
      "           0       0.70      0.99      0.82       150\n",
      "           1       0.99      0.52      0.68       135\n",
      "\n",
      "   micro avg       0.77      0.77      0.77       285\n",
      "   macro avg       0.84      0.76      0.75       285\n",
      "weighted avg       0.83      0.77      0.75       285\n",
      "\n"
     ]
    },
    {
     "data": {
      "image/png": "[encoded data removed]",
      "text/plain": [
       "<Figure size 432x288 with 2 Axes>"
      ]
     },
     "metadata": {
      "needs_background": "light"
     },
     "output_type": "display_data"
    }
   ],
   "source": [
    "from sklearn.metrics import confusion_matrix,classification_report\n",
    "from pandas import DataFrame\n",
    "from sklearn.metrics import f1_score\n",
    "import seaborn as sn\n",
    "\n",
    "confm = confusion_matrix(Y_test_4, pred_rf)\n",
    "labels=['positive','negative']\n",
    "print(confm)\n",
    "df_cm = DataFrame(confm, index=labels, columns=labels)\n",
    "\n",
    "ax = sn.heatmap(df_cm, cmap='Oranges', annot=True,fmt='g')\n",
    "\n",
    "f1_score(Y_test_3, pred_rf, average='macro') \n",
    "print(classification_report(Y_test_3, pred_rf))"
   ]
  },
  {
   "cell_type": "code",
   "execution_count": 576,
   "metadata": {},
   "outputs": [
    {
     "name": "stdout",
     "output_type": "stream",
     "text": [
      "{'m12': 0.3134253829027248, 'm11': 0.12392245104587843, 'borrower_credit_score': 0.1220432320725225, 'm9': 0.1051303636368931, 'm10': 0.07250872597012471, 'm7': 0.05080499737341039, 'm8': 0.02821962678674022, 'debt_to_income_ratio': 0.026701411639580598, 'interest_rate': 0.025064677539976314, 'loan_to_value': 0.021591396239565654, 'co-borrower_credit_score': 0.021585696142382288, 'unpaid_principal_bal': 0.020964177608164002, 'financial_institution': 0.011912911714808525, 'm2': 0.009844204175628524, 'loan_term': 0.007396863187671262, 'm5': 0.0072139058563891025, 'insurance_type': 0.005965883703161838, 'source': 0.004850004949928667, 'number_of_borrowers': 0.004585953128363034, 'first_payment_date': 0.0044309361374554445}\n"
     ]
    }
   ],
   "source": [
    "import pandas as pd\n",
    "imp_features=(dict(zip(features.columns, model_rf.feature_importances_)))\n",
    "dictionary=dict(sorted(imp_features.items(), key=lambda kv: kv[1],reverse=True)[:20])\n",
    "print(dictionary)"
   ]
  },
  {
   "cell_type": "code",
   "execution_count": 577,
   "metadata": {},
   "outputs": [
    {
     "data": {
      "image/png": "[encoded data removed]",
      "text/plain": [
       "<Figure size 432x288 with 1 Axes>"
      ]
     },
     "metadata": {
      "needs_background": "light"
     },
     "output_type": "display_data"
    }
   ],
   "source": [
    "from matplotlib import pyplot\n",
    "label=[]\n",
    "label=(dictionary.keys())\n",
    "values=(dictionary.values())\n",
    "index = np.arange(len(label))\n",
    "plt.bar(index, values)\n",
    "plt.xticks(index, label, fontsize=15, rotation=100)\n",
    "plt.title('Feature Importance')\n",
    "plt.show()"
   ]
  },
  {
   "cell_type": "markdown",
   "metadata": {},
   "source": [
    "# XGBClassifier"
   ]
  },
  {
   "cell_type": "code",
   "execution_count": 111,
   "metadata": {},
   "outputs": [],
   "source": [
    "Y_train_2=Train2[\"m13\"]\n",
    "\n",
    "X_train_2=Train2.drop(['m13','loan_id'], axis=1)\n",
    "\n",
    "Y_test_2=Test2[\"m13\"]\n",
    "\n",
    "X_test_2=Test2.drop(['m13','loan_id'], axis=1)"
   ]
  },
  {
   "cell_type": "code",
   "execution_count": 112,
   "metadata": {},
   "outputs": [],
   "source": [
    "from sklearn.preprocessing import StandardScaler\n",
    "sc_X = StandardScaler()\n",
    "X_train = sc_X.fit_transform(X_train_2)\n",
    "X_test = sc_X.transform(X_test_2)"
   ]
  },
  {
   "cell_type": "code",
   "execution_count": 520,
   "metadata": {},
   "outputs": [],
   "source": [
    "param_test1 = {\n",
    "'n_estimators':[10,30,50,70,90],\n",
    " 'max_depth':[10,30,50,70,90]\n",
    "}"
   ]
  },
  {
   "cell_type": "code",
   "execution_count": 521,
   "metadata": {},
   "outputs": [
    {
     "data": {
      "text/plain": [
       "GridSearchCV(cv=10, error_score='raise-deprecating',\n",
       "       estimator=XGBClassifier(base_score=0.5, booster='gbtree', colsample_bylevel=1,\n",
       "       colsample_bynode=1, colsample_bytree=0.8, gamma=0,\n",
       "       learning_rate=0.1, max_delta_step=0, max_depth=5,\n",
       "       min_child_weight=1, missing=None, n_estimators=140, n_jobs=1,\n",
       "       nthread=4, objective='binary:logistic', random_state=0, reg_alpha=0,\n",
       "       reg_lambda=1, scale_pos_weight=1, seed=27, silent=None,\n",
       "       subsample=0.8, verbosity=1),\n",
       "       fit_params=None, iid=False, n_jobs=4,\n",
       "       param_grid={'n_estimators': [10, 30, 50, 70, 90], 'max_depth': [10, 30, 50, 70, 90]},\n",
       "       pre_dispatch='2*n_jobs', refit=True, return_train_score='warn',\n",
       "       scoring='f1', verbose=0)"
      ]
     },
     "execution_count": 521,
     "metadata": {},
     "output_type": "execute_result"
    }
   ],
   "source": [
    "from xgboost import XGBClassifier\n",
    "from sklearn.model_selection import GridSearchCV\n",
    "gsearch1 = GridSearchCV(estimator = XGBClassifier( learning_rate =0.1, n_estimators=140, max_depth=5,\n",
    "min_child_weight=1, gamma=0, subsample=0.8, colsample_bytree=0.8,\n",
    "objective= 'binary:logistic', nthread=4, scale_pos_weight=1, seed=27), \n",
    "param_grid = param_test1, scoring='f1',n_jobs=4,iid=False, cv=10)\n",
    "\n",
    "gsearch1.fit(X_train, Y_train_2)"
   ]
  },
  {
   "cell_type": "code",
   "execution_count": 522,
   "metadata": {},
   "outputs": [
    {
     "data": {
      "text/plain": [
       "({'max_depth': 30, 'n_estimators': 90}, 0.8931378983039616)"
      ]
     },
     "execution_count": 522,
     "metadata": {},
     "output_type": "execute_result"
    }
   ],
   "source": [
    "gsearch1.best_params_, gsearch1.best_score_"
   ]
  },
  {
   "cell_type": "code",
   "execution_count": 77,
   "metadata": {},
   "outputs": [
    {
     "data": {
      "text/plain": [
       "XGBClassifier(base_score=0.5, booster='gbtree', colsample_bylevel=1,\n",
       "       colsample_bynode=1, colsample_bytree=1, gamma=0, learning_rate=0.1,\n",
       "       max_delta_step=0, max_depth=30, min_child_weight=1, missing=None,\n",
       "       n_estimators=90, n_jobs=1, nthread=None,\n",
       "       objective='binary:logistic', random_state=0, reg_alpha=0,\n",
       "       reg_lambda=1, scale_pos_weight=1, seed=None, silent=None,\n",
       "       subsample=1, verbosity=1)"
      ]
     },
     "execution_count": 77,
     "metadata": {},
     "output_type": "execute_result"
    }
   ],
   "source": [
    "from xgboost import XGBClassifier\n",
    "XB_model = XGBClassifier(max_depth=30,n_estimators=90)\n",
    "XB_model.fit(X_train, Y_train_2)"
   ]
  },
  {
   "cell_type": "code",
   "execution_count": 78,
   "metadata": {},
   "outputs": [
    {
     "name": "stdout",
     "output_type": "stream",
     "text": [
      "Macro-average quality numbers\n",
      "Precision: 0.8411, Recall: 0.7559, F1-measure: 0.7491\n",
      "              precision    recall  f1-score   support\n",
      "\n",
      "           0       0.70      0.99      0.82       150\n",
      "           1       0.99      0.52      0.68       135\n",
      "\n",
      "   micro avg       0.77      0.77      0.77       285\n",
      "   macro avg       0.84      0.76      0.75       285\n",
      "weighted avg       0.83      0.77      0.75       285\n",
      "\n"
     ]
    }
   ],
   "source": [
    "from sklearn.metrics import precision_score,recall_score,f1_score\n",
    "# predict the response\n",
    "XB = XB_model.predict(X_test)\n",
    "\n",
    "precision = precision_score(Y_test_2, XB, average='macro')\n",
    "recall = recall_score(Y_test_2, XB, average='macro')\n",
    "f1 = f1_score(Y_test_2, XB, average='macro')\n",
    " \n",
    "print(\"Macro-average quality numbers\")\n",
    "print(\"Precision: {:.4f}, Recall: {:.4f}, F1-measure: {:.4f}\".format(precision, recall, f1))\n",
    "\n",
    "print (metrics.classification_report(Y_test_2, XB))"
   ]
  },
  {
   "cell_type": "code",
   "execution_count": 79,
   "metadata": {},
   "outputs": [
    {
     "name": "stdout",
     "output_type": "stream",
     "text": [
      "[[149   1]\n",
      " [ 65  70]]\n",
      "              precision    recall  f1-score   support\n",
      "\n",
      "           0       0.70      0.99      0.82       150\n",
      "           1       0.99      0.52      0.68       135\n",
      "\n",
      "   micro avg       0.77      0.77      0.77       285\n",
      "   macro avg       0.84      0.76      0.75       285\n",
      "weighted avg       0.83      0.77      0.75       285\n",
      "\n"
     ]
    },
    {
     "data": {
      "image/png": "[encoded data removed]",
      "text/plain": [
       "<Figure size 432x288 with 2 Axes>"
      ]
     },
     "metadata": {
      "needs_background": "light"
     },
     "output_type": "display_data"
    }
   ],
   "source": [
    "from sklearn.metrics import confusion_matrix,classification_report\n",
    "from pandas import DataFrame\n",
    "from sklearn.metrics import f1_score\n",
    "import seaborn as sn\n",
    "\n",
    "confm = confusion_matrix(Y_test_2, XB)\n",
    "labels=['positive','negative']\n",
    "print(confm)\n",
    "df_cm = DataFrame(confm, index=labels, columns=labels)\n",
    "\n",
    "ax = sn.heatmap(df_cm, cmap='Oranges', annot=True,fmt='g')\n",
    "\n",
    "f1_score(Y_test_2, XB, average='macro') \n",
    "print(classification_report(Y_test_2, XB))"
   ]
  },
  {
   "cell_type": "code",
   "execution_count": 526,
   "metadata": {},
   "outputs": [
    {
     "name": "stdout",
     "output_type": "stream",
     "text": [
      "{'m12': 0.6124373, 'm9': 0.11703211, 'm11': 0.02572241, 'm7': 0.022184923, 'm10': 0.020762522, 'm4': 0.018118814, 'm5': 0.016660081, 'm6': 0.016355699, 'm8': 0.012365744, 'm2': 0.011624595, 'loan_term': 0.010765451, 'm1': 0.010474211, 'borrower_credit_score': 0.00972593, 'co-borrower_credit_score': 0.009456412, 'financial_institution': 0.00879731, 'interest_rate': 0.008299901, 'origination_date': 0.008167644, 'loan_to_value': 0.0076872716, 'unpaid_principal_bal': 0.0076339324, 'source': 0.0075727324}\n"
     ]
    }
   ],
   "source": [
    "import pandas as pd\n",
    "imp_features=(dict(zip(features.columns, XB_model.feature_importances_)))\n",
    "dictionary=dict(sorted(imp_features.items(), key=lambda kv: kv[1],reverse=True)[:20])\n",
    "print(dictionary)"
   ]
  },
  {
   "cell_type": "code",
   "execution_count": 527,
   "metadata": {},
   "outputs": [
    {
     "data": {
      "image/png": "[encoded data removed]",
      "text/plain": [
       "<Figure size 432x288 with 1 Axes>"
      ]
     },
     "metadata": {
      "needs_background": "light"
     },
     "output_type": "display_data"
    }
   ],
   "source": [
    "from matplotlib import pyplot\n",
    "label=[]\n",
    "label=(dictionary.keys())\n",
    "values=(dictionary.values())\n",
    "index = np.arange(len(label))\n",
    "plt.bar(index, values)\n",
    "plt.xticks(index, label, fontsize=10, rotation=100)\n",
    "plt.title('Feature Importance')\n",
    "plt.show()"
   ]
  },
  {
   "cell_type": "markdown",
   "metadata": {},
   "source": [
    "# GradientBoostingClassifier"
   ]
  },
  {
   "cell_type": "code",
   "execution_count": 113,
   "metadata": {},
   "outputs": [],
   "source": [
    "Y_train_2=Train2[\"m13\"]\n",
    "\n",
    "X_train_2=Train2.drop(['m13','loan_id'], axis=1)\n",
    "\n",
    "Y_test_2=Test2[\"m13\"]\n",
    "\n",
    "X_test_2=Test2.drop(['m13','loan_id'], axis=1)"
   ]
  },
  {
   "cell_type": "code",
   "execution_count": 114,
   "metadata": {},
   "outputs": [],
   "source": [
    "from sklearn.preprocessing import StandardScaler\n",
    "sc_X = StandardScaler()\n",
    "X_train = sc_X.fit_transform(X_train_2)\n",
    "X_test = sc_X.transform(X_test_2)"
   ]
  },
  {
   "cell_type": "code",
   "execution_count": 82,
   "metadata": {},
   "outputs": [],
   "source": [
    "from sklearn.ensemble import GradientBoostingClassifier  #GBM algorithm"
   ]
  },
  {
   "cell_type": "code",
   "execution_count": 622,
   "metadata": {},
   "outputs": [
    {
     "data": {
      "text/plain": [
       "GridSearchCV(cv=5, error_score='raise-deprecating',\n",
       "       estimator=GradientBoostingClassifier(criterion='friedman_mse', init=None,\n",
       "              learning_rate=0.1, loss='deviance', max_depth=8,\n",
       "              max_features=None, max_leaf_nodes=None,\n",
       "              min_impurity_decrease=0.0, min_impurity_split=None,\n",
       "              min_samples_leaf=50, min_samp...      subsample=0.8, tol=0.0001, validation_fraction=0.1,\n",
       "              verbose=0, warm_start=False),\n",
       "       fit_params=None, iid='warn', n_jobs=4,\n",
       "       param_grid={'n_estimators': range(20, 200, 10)},\n",
       "       pre_dispatch='2*n_jobs', refit=True, return_train_score='warn',\n",
       "       scoring='f1', verbose=0)"
      ]
     },
     "execution_count": 622,
     "metadata": {},
     "output_type": "execute_result"
    }
   ],
   "source": [
    "#Choose all predictors except target & IDcols\n",
    "param_grid = {'n_estimators':range(20,200,10)}\n",
    "LR=GradientBoostingClassifier(learning_rate=0.1, min_samples_split=500,min_samples_leaf=50,max_depth=8,subsample=0.8,random_state=10)\n",
    "gsearch1 = GridSearchCV(LR, param_grid, cv=5,scoring='f1',n_jobs=4)\n",
    "gsearch1.fit(X_train, Y_train_2)"
   ]
  },
  {
   "cell_type": "code",
   "execution_count": 623,
   "metadata": {},
   "outputs": [
    {
     "data": {
      "text/plain": [
       "({'n_estimators': 190}, 0.798756937052019)"
      ]
     },
     "execution_count": 623,
     "metadata": {},
     "output_type": "execute_result"
    }
   ],
   "source": [
    "gsearch1.best_params_, gsearch1.best_score_"
   ]
  },
  {
   "cell_type": "code",
   "execution_count": 625,
   "metadata": {},
   "outputs": [
    {
     "data": {
      "text/plain": [
       "({'max_depth': 11, 'min_samples_split': 200, 'n_estimators': 190},\n",
       " 0.8767571849783816)"
      ]
     },
     "execution_count": 625,
     "metadata": {},
     "output_type": "execute_result"
    }
   ],
   "source": [
    "param_grid = {'max_depth':range(5,16,2), 'min_samples_split':range(200,1001,200),'n_estimators':range(20,200,10)}\n",
    "LR=(GradientBoostingClassifier(n_estimators=190,learning_rate=0.1, min_samples_split=200,min_samples_leaf=30,max_depth=15,subsample=0.8,random_state=10))\n",
    "gsearch2 = GridSearchCV(LR, param_grid, cv=5,scoring='f1',n_jobs=4)\n",
    "gsearch2.fit(X_train, Y_train_2)\n",
    "gsearch2.best_params_, gsearch2.best_score_"
   ]
  },
  {
   "cell_type": "code",
   "execution_count": 83,
   "metadata": {},
   "outputs": [
    {
     "data": {
      "text/plain": [
       "GradientBoostingClassifier(criterion='friedman_mse', init=None,\n",
       "              learning_rate=0.05, loss='deviance', max_depth=11,\n",
       "              max_features=None, max_leaf_nodes=None,\n",
       "              min_impurity_decrease=0.0, min_impurity_split=None,\n",
       "              min_samples_leaf=40, min_samples_split=200,\n",
       "              min_weight_fraction_leaf=0.0, n_estimators=190,\n",
       "              n_iter_no_change=None, presort='auto', random_state=10,\n",
       "              subsample=0.8, tol=0.0001, validation_fraction=0.1,\n",
       "              verbose=0, warm_start=False)"
      ]
     },
     "execution_count": 83,
     "metadata": {},
     "output_type": "execute_result"
    }
   ],
   "source": [
    "GB=(GradientBoostingClassifier(n_estimators=190,learning_rate=0.05, min_samples_split=200,min_samples_leaf=40,max_depth=11,subsample=0.8,random_state=10))\n",
    "GB.fit(X_train,Y_train_2)"
   ]
  },
  {
   "cell_type": "code",
   "execution_count": 84,
   "metadata": {},
   "outputs": [
    {
     "name": "stdout",
     "output_type": "stream",
     "text": [
      "Macro-average quality numbers\n",
      "Precision: 0.8456, Recall: 0.7519, F1-measure: 0.7437\n",
      "              precision    recall  f1-score   support\n",
      "\n",
      "           0       0.69      1.00      0.82       150\n",
      "           1       1.00      0.50      0.67       135\n",
      "\n",
      "   micro avg       0.76      0.76      0.76       285\n",
      "   macro avg       0.85      0.75      0.74       285\n",
      "weighted avg       0.84      0.76      0.75       285\n",
      "\n"
     ]
    }
   ],
   "source": [
    "from sklearn.metrics import precision_score,recall_score,f1_score\n",
    "# predict the response\n",
    "gb = GB.predict(X_test_2)\n",
    "\n",
    "precision = precision_score(Y_test_2, gb, average='macro')\n",
    "recall = recall_score(Y_test_2, gb, average='macro')\n",
    "f1 = f1_score(Y_test_2, gb, average='macro')\n",
    " \n",
    "print(\"Macro-average quality numbers\")\n",
    "print(\"Precision: {:.4f}, Recall: {:.4f}, F1-measure: {:.4f}\".format(precision, recall, f1))\n",
    "\n",
    "print (metrics.classification_report(Y_test_2, gb))"
   ]
  },
  {
   "cell_type": "code",
   "execution_count": 85,
   "metadata": {},
   "outputs": [
    {
     "name": "stdout",
     "output_type": "stream",
     "text": [
      "[[150   0]\n",
      " [ 67  68]]\n",
      "              precision    recall  f1-score   support\n",
      "\n",
      "           0       0.69      1.00      0.82       150\n",
      "           1       1.00      0.50      0.67       135\n",
      "\n",
      "   micro avg       0.76      0.76      0.76       285\n",
      "   macro avg       0.85      0.75      0.74       285\n",
      "weighted avg       0.84      0.76      0.75       285\n",
      "\n"
     ]
    },
    {
     "data": {
      "image/png": "[encoded data removed]",
      "text/plain": [
       "<Figure size 432x288 with 2 Axes>"
      ]
     },
     "metadata": {
      "needs_background": "light"
     },
     "output_type": "display_data"
    }
   ],
   "source": [
    "from sklearn.metrics import confusion_matrix,classification_report\n",
    "from pandas import DataFrame\n",
    "from sklearn.metrics import f1_score\n",
    "import seaborn as sn\n",
    "\n",
    "confm = confusion_matrix(Y_test_2, gb)\n",
    "labels=['positive','negative']\n",
    "print(confm)\n",
    "df_cm = DataFrame(confm, index=labels, columns=labels)\n",
    "\n",
    "ax = sn.heatmap(df_cm, cmap='Oranges', annot=True,fmt='g')\n",
    "\n",
    "f1_score(Y_test_2, gb, average='macro') \n",
    "print(classification_report(Y_test_2, gb))"
   ]
  },
  {
   "cell_type": "markdown",
   "metadata": {},
   "source": [
    "# Test Data"
   ]
  },
  {
   "cell_type": "code",
   "execution_count": 115,
   "metadata": {},
   "outputs": [],
   "source": [
    "test=pd.read_csv(\"test.csv\")"
   ]
  },
  {
   "cell_type": "code",
   "execution_count": 116,
   "metadata": {},
   "outputs": [],
   "source": [
    "list1=[]\n",
    "for i in range(0,len(test)):\n",
    "    string1=test[\"origination_date\"][i]\n",
    "    list1.append(string1[4])\n",
    "\n",
    "test[\"origination_date\"]=list1\n",
    "\n",
    "list1=[]\n",
    "for i in range(0,len(test)):\n",
    "    string1=test[\"first_payment_date\"][i]\n",
    "    if(string1[0:3]==\"Feb\"):\n",
    "        list1.append(2)\n",
    "    elif(string1[0:3]==\"Apr\"):\n",
    "        list1.append(4)\n",
    "    elif(string1[0:3]==\"Mar\"):\n",
    "        list1.append(3)  \n",
    "    elif(string1[0:3]==\"May\"):\n",
    "        list1.append(5)\n",
    "\n",
    "test[\"first_payment_date\"]=list1\n",
    "\n",
    "test['origination_date'] = test['origination_date'].astype(int)\n",
    "test['first_payment_date'] = test['first_payment_date'].astype(int)\n",
    "\n",
    "test[\"orgin-first\"]=test[\"first_payment_date\"]-test[\"origination_date\"]"
   ]
  },
  {
   "cell_type": "code",
   "execution_count": 117,
   "metadata": {},
   "outputs": [],
   "source": [
    "le_X = LabelEncoder()\n",
    "\n",
    "X = test.iloc[:,1].values\n",
    "\n",
    "X = le_X.fit_transform(X)\n",
    "\n",
    "y = test.iloc[:,2].values\n",
    "\n",
    "y = le_X.fit_transform(y)\n",
    "\n",
    "z = test.iloc[:,12].values\n",
    "\n",
    "z = le_X.fit_transform(z)\n",
    "\n",
    "a = test.iloc[:,15].values\n",
    "\n",
    "a = le_X.fit_transform(z)\n",
    "\n",
    "test['source']=X\n",
    "\n",
    "test['financial_institution']=y\n",
    "\n",
    "test['loan_purpose']=z\n",
    "\n",
    "test['insurance_type']=a"
   ]
  },
  {
   "cell_type": "code",
   "execution_count": 118,
   "metadata": {},
   "outputs": [],
   "source": [
    "X_test1=test.drop(['loan_id'], axis=1)"
   ]
  },
  {
   "cell_type": "code",
   "execution_count": 119,
   "metadata": {},
   "outputs": [],
   "source": [
    "X_test1 = sc_X.transform(X_test1)"
   ]
  },
  {
   "cell_type": "code",
   "execution_count": 92,
   "metadata": {},
   "outputs": [],
   "source": [
    "pred_LR = alpha_optimal.predict(X_test1)\n",
    "\n",
    "pred_SVM = alpha_optimal_svm.predict(X_test1)\n",
    "\n",
    "pred_RF = model_rf.predict(X_test1)\n",
    "\n",
    "pred_XG = XB_model.predict(X_test1)\n",
    "\n",
    "pred_GB = GB.predict(X_test1)"
   ]
  },
  {
   "cell_type": "code",
   "execution_count": 93,
   "metadata": {},
   "outputs": [],
   "source": [
    "df_all = pd.DataFrame(columns=['pred_SVM','pred_GB','pred_RF'])"
   ]
  },
  {
   "cell_type": "code",
   "execution_count": 94,
   "metadata": {},
   "outputs": [],
   "source": [
    "df_all['pred_GB']=pred_GB\n",
    "df_all['pred_RF']=pred_RF\n",
    "df_all['pred_SVM']=pred_SVM"
   ]
  },
  {
   "cell_type": "markdown",
   "metadata": {},
   "source": [
    "# Majority Voting"
   ]
  },
  {
   "cell_type": "code",
   "execution_count": 95,
   "metadata": {},
   "outputs": [],
   "source": [
    "df_all[\"final\"]=df_all.mode(axis=1)"
   ]
  },
  {
   "cell_type": "code",
   "execution_count": 96,
   "metadata": {},
   "outputs": [],
   "source": [
    "df1 = pd.DataFrame(columns=['loan_id','m13'])"
   ]
  },
  {
   "cell_type": "code",
   "execution_count": 97,
   "metadata": {},
   "outputs": [],
   "source": [
    "df1[\"m13\"]=df_all[\"final\"]"
   ]
  },
  {
   "cell_type": "code",
   "execution_count": 98,
   "metadata": {},
   "outputs": [],
   "source": [
    "df1[\"loan_id\"]=test['loan_id']"
   ]
  },
  {
   "cell_type": "code",
   "execution_count": 99,
   "metadata": {},
   "outputs": [],
   "source": [
    "df1.to_csv(\"final.csv\",index=0)"
   ]
  },
  {
   "cell_type": "code",
   "execution_count": 100,
   "metadata": {},
   "outputs": [
    {
     "data": {
      "text/plain": [
       "0    35641\n",
       "1      225\n",
       "Name: m13, dtype: int64"
      ]
     },
     "execution_count": 100,
     "metadata": {},
     "output_type": "execute_result"
    }
   ],
   "source": [
    "df1[\"m13\"].value_counts()"
   ]
  }
 ],
 "metadata": {
  "kernelspec": {
   "display_name": "Python 3",
   "language": "python",
   "name": "python3"
  },
  "language_info": {
   "codemirror_mode": {
    "name": "ipython",
    "version": 3
   },
   "file_extension": ".py",
   "mimetype": "text/x-python",
   "name": "python",
   "nbconvert_exporter": "python",
   "pygments_lexer": "ipython3",
   "version": "3.7.3"
  }
 },
 "nbformat": 4,
 "nbformat_minor": 2
}
